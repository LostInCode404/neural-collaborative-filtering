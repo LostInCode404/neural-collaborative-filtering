{
 "cells": [
  {
   "cell_type": "markdown",
   "metadata": {},
   "source": [
    "# Imports"
   ]
  },
  {
   "cell_type": "code",
   "execution_count": 142,
   "metadata": {},
   "outputs": [],
   "source": [
    "# Import\n",
    "import random\n",
    "import heapq\n",
    "import numpy as np\n",
    "from tqdm import tqdm\n",
    "from keras.models import Model, load_model, save_model\n",
    "from keras.layers import Dense, BatchNormalization, Embedding, Input, Flatten, Dropout, merge\n",
    "from keras.optimizers import Adam, SGD\n",
    "from keras.regularizers import l2\n",
    "from keras.losses import binary_crossentropy, mean_absolute_error, mean_squared_error\n",
    "from sklearn.metrics import mean_absolute_error, accuracy_score\n",
    "from sklearn.model_selection import train_test_split\n",
    "from matplotlib import pyplot as plt"
   ]
  },
  {
   "cell_type": "markdown",
   "metadata": {},
   "source": [
    "# Read And Pre-Process Data"
   ]
  },
  {
   "cell_type": "code",
   "execution_count": 78,
   "metadata": {},
   "outputs": [],
   "source": [
    "# Constants\n",
    "DATA_DIR = \"./data/\"\n",
    "RATINGS_FILE = \"train\"\n",
    "USERS_FILE = \"users.dat\"\n",
    "MOVIES_FILE = \"movies.dat\"\n",
    "USER_INDEX = 0\n",
    "ITEM_INDEX = 1\n",
    "NUM_NEG_SAMPLES = 100"
   ]
  },
  {
   "cell_type": "code",
   "execution_count": 79,
   "metadata": {},
   "outputs": [],
   "source": [
    "# Read users\n",
    "def read_raw_data(path):\n",
    "    \n",
    "    # Data array\n",
    "    data = []\n",
    "    \n",
    "    # Open file\n",
    "    k = 0\n",
    "    with open(path) as f:\n",
    "        \n",
    "        # Read line by line\n",
    "        lines = f.readlines()\n",
    "        \n",
    "        # Loop each line\n",
    "        for line in lines:\n",
    "            \n",
    "            # Parse line\n",
    "            line = line.strip().split('\\t')\n",
    "            \n",
    "            # Append to array\n",
    "            data.append([int(line[0]), int(line[1])])\n",
    "            \n",
    "            # Break\n",
    "#             k += 1\n",
    "#             if(k==10000):\n",
    "#                 break\n",
    "            \n",
    "    # Return \n",
    "    return data"
   ]
  },
  {
   "cell_type": "code",
   "execution_count": 80,
   "metadata": {},
   "outputs": [],
   "source": [
    "# Get max user index\n",
    "def get_item_index_range(path):\n",
    "    \n",
    "    # Open file\n",
    "    with open(path, encoding='ISO-8859-1') as f:\n",
    "        \n",
    "        # Read lines\n",
    "        lines = f.readlines()\n",
    "        \n",
    "        # All ids\n",
    "        ids = []\n",
    "        \n",
    "        # Loop lines\n",
    "        for line in lines:\n",
    "            \n",
    "            # Get ID\n",
    "            user_id = int(line.strip().split('::')[0])\n",
    "            ids.append(user_id)\n",
    "            \n",
    "    # Return\n",
    "    return min(ids), max(ids)"
   ]
  },
  {
   "cell_type": "code",
   "execution_count": 81,
   "metadata": {},
   "outputs": [],
   "source": [
    "# Get max user index\n",
    "def get_user_index_range(path):\n",
    "    \n",
    "    # Open file\n",
    "    with open(path) as f:\n",
    "        \n",
    "        # Read lines\n",
    "        lines = f.readlines()\n",
    "        \n",
    "        # All ids\n",
    "        ids = []\n",
    "        \n",
    "        # Loop lines\n",
    "        for line in lines:\n",
    "            \n",
    "            # Get ID\n",
    "            user_id = int(line.strip().split('::')[0])\n",
    "            ids.append(user_id)\n",
    "            \n",
    "    # Return\n",
    "    return min(ids), max(ids)"
   ]
  },
  {
   "cell_type": "code",
   "execution_count": 82,
   "metadata": {},
   "outputs": [],
   "source": [
    "# Make user_item mapping\n",
    "def make_user_item_map(data):\n",
    "    \n",
    "    # Map\n",
    "    user_item_map = {}\n",
    "    \n",
    "    # Loop data\n",
    "    for datum in data:\n",
    "        \n",
    "        # Get data\n",
    "        user = datum[USER_INDEX]\n",
    "        item = datum[ITEM_INDEX]\n",
    "        \n",
    "        # Add to map\n",
    "        if(user not in user_item_map):\n",
    "            user_item_map[user] = set()\n",
    "        user_item_map[user].add(item)\n",
    "        \n",
    "    # Return set\n",
    "    return user_item_map"
   ]
  },
  {
   "cell_type": "code",
   "execution_count": 83,
   "metadata": {},
   "outputs": [],
   "source": [
    "# Make positive samples\n",
    "def make_positive_samples(user_item_map):\n",
    "    \n",
    "    # Final data\n",
    "    user_data = []\n",
    "    item_data = []\n",
    "    \n",
    "    # Loop the map\n",
    "    for user in user_item_map.keys():\n",
    "        \n",
    "        # Loop all items\n",
    "        for item in user_item_map[user]:\n",
    "            \n",
    "            # Add data to array\n",
    "            user_data.append(user)\n",
    "            item_data.append(item)\n",
    "            \n",
    "    # Return data\n",
    "    return user_data, item_data"
   ]
  },
  {
   "cell_type": "code",
   "execution_count": 87,
   "metadata": {},
   "outputs": [],
   "source": [
    "# Make negative samples\n",
    "def make_negative_samples(user_item_map):\n",
    "    \n",
    "    # Final data\n",
    "    user_data = []\n",
    "    item_data = []\n",
    "    \n",
    "    # Load range\n",
    "#     min_val, max_val = get_item_index_range(DATA_DIR+MOVIES_FILE)\n",
    "    \n",
    "    # Loop the map\n",
    "    for user in user_item_map.keys():\n",
    "        \n",
    "        # Loop for negative samples\n",
    "        uniq_set = set()\n",
    "        for i in range(NUM_NEG_SAMPLES):\n",
    "            \n",
    "            # Generate random movie\n",
    "            while(True):\n",
    "                \n",
    "                # Generate\n",
    "                item = random.randint(0, 3952)\n",
    "                \n",
    "                # Check\n",
    "                if(item not in user_item_map[user] and item not in uniq_set):\n",
    "                    user_data.append(user)\n",
    "                    item_data.append(item)\n",
    "                    uniq_set.add(item)\n",
    "                    break\n",
    "                    \n",
    "    # Return\n",
    "    return user_data, item_data"
   ]
  },
  {
   "cell_type": "code",
   "execution_count": 85,
   "metadata": {},
   "outputs": [],
   "source": [
    "# Split data\n",
    "def train_test_split_data(positive_data, negative_data):\n",
    "    \n",
    "    # Separate data\n",
    "    pos_user_data, pos_item_data = positive_data\n",
    "    neg_user_data, neg_item_data = negative_data\n",
    "    user_data = pos_user_data + neg_user_data\n",
    "    item_data = pos_item_data + neg_item_data\n",
    "    labels = [1]*len(pos_user_data) + [0]*len(neg_user_data)\n",
    "    \n",
    "    # Split\n",
    "    user_data_train, user_data_test, item_data_train, item_data_test, labels_train, labels_test = train_test_split(user_data, item_data, labels, test_size=0.05)\n",
    "    \n",
    "    # Convert to np array\n",
    "    user_data_train = np.array(user_data_train, dtype=np.int32)\n",
    "    item_data_train = np.array(item_data_train, dtype=np.int32)\n",
    "    labels_train = np.array(labels_train, dtype=np.int32)\n",
    "    user_data_test = np.array(user_data_test, dtype=np.int32)\n",
    "    item_data_test = np.array(item_data_test, dtype=np.int32)\n",
    "    labels_test = np.array(labels_test, dtype=np.int32)\n",
    "    \n",
    "    # Return with labels\n",
    "    return user_data_train, item_data_train, labels_train, user_data_test, item_data_test, labels_test  "
   ]
  },
  {
   "cell_type": "code",
   "execution_count": 88,
   "metadata": {},
   "outputs": [],
   "source": [
    "# Read raw data\n",
    "raw_data = read_raw_data(DATA_DIR+RATINGS_FILE)\n",
    "\n",
    "# Make user item map\n",
    "user_item_map = make_user_item_map(raw_data)\n",
    "\n",
    "# Make positive samples\n",
    "pos_samples = make_positive_samples(user_item_map)\n",
    "\n",
    "# Make positive samples\n",
    "neg_samples = make_negative_samples(user_item_map)\n",
    "\n",
    "# Make train and test data\n",
    "user_data_train, item_data_train, labels_train, user_data_test, item_data_test, labels_test = train_test_split_data(pos_samples, neg_samples)"
   ]
  },
  {
   "cell_type": "code",
   "execution_count": 14,
   "metadata": {},
   "outputs": [],
   "source": [
    "# Load test data by paper\n",
    "paper_user_data = []\n",
    "paper_item_data = []\n",
    "paper_lables = []\n",
    "\n",
    "# Open file\n",
    "with"
   ]
  },
  {
   "cell_type": "markdown",
   "metadata": {},
   "source": [
    "# Model"
   ]
  },
  {
   "cell_type": "code",
   "execution_count": 97,
   "metadata": {},
   "outputs": [],
   "source": [
    "# Method to get model\n",
    "def get_model(user_count, item_count, mf_dim, layer_config):\n",
    "    \n",
    "    # Input layers\n",
    "    user_input = Input(shape=(1,))\n",
    "    item_input = Input(shape=(1,))\n",
    "    \n",
    "    # MF layers for user\n",
    "    mf_user = Embedding(input_dim=user_count+1, output_dim=mf_dim, embeddings_regularizer=l2(0), embeddings_initializer='normal', input_length=1)(user_input)\n",
    "    mf_user = Flatten()(mf_user)\n",
    "    \n",
    "    # MF layers for item\n",
    "    mf_item = Embedding(input_dim=item_count+1, output_dim=mf_dim, embeddings_regularizer=l2(0), embeddings_initializer='normal', input_length=1)(item_input)\n",
    "    mf_item = Flatten()(mf_item)\n",
    "    \n",
    "    # Merge MF layers by multiplying\n",
    "    mf_layer = merge.multiply([mf_user, mf_item])\n",
    "    \n",
    "    # MLP layers for user\n",
    "    mlp_user = Embedding(input_dim=user_count+1, output_dim=32, embeddings_regularizer=l2(0), embeddings_initializer='normal', input_length=1)(user_input)\n",
    "    mlp_user = Flatten()(mlp_user)\n",
    "    \n",
    "    # MLP layers for item\n",
    "    mlp_item = Embedding(input_dim=item_count+1, output_dim=32, embeddings_regularizer=l2(0), embeddings_initializer='normal', input_length=1)(item_input)\n",
    "    mlp_item = Flatten()(mlp_item)\n",
    "    \n",
    "    # Merge MLP layers by concatenating\n",
    "    mlp_layer = merge.concatenate([mlp_user, mlp_item])\n",
    "    \n",
    "    # Add dense layers to MLP part after concat\n",
    "    for layer_dim in layer_config:\n",
    "        \n",
    "        # Add layer\n",
    "        mlp_layer = Dense(layer_dim, kernel_regularizer=l2(0), activation='relu')(mlp_layer)\n",
    "#         mlp_layer = BatchNormalization()(mlp_layer)\n",
    "        \n",
    "    # Concat MF and MLP layers\n",
    "    concat_layer = merge.concatenate([mf_layer, mlp_layer])\n",
    "    \n",
    "    # Prediction layer\n",
    "    output = Dense(1, activation='sigmoid', kernel_initializer='lecun_uniform')(concat_layer)\n",
    "    \n",
    "    # Define model\n",
    "    model = Model(inputs=[user_input,item_input], outputs=output)\n",
    "    \n",
    "    # Return model\n",
    "    return model"
   ]
  },
  {
   "cell_type": "code",
   "execution_count": 98,
   "metadata": {},
   "outputs": [],
   "source": [
    "# User range\n",
    "user_min, user_max = 0, 6039\n",
    "item_min, item_max = 0, 3952"
   ]
  },
  {
   "cell_type": "code",
   "execution_count": 99,
   "metadata": {},
   "outputs": [],
   "source": [
    "# Get user neg_samples map\n",
    "d2ef get_user_neg_map(neg_samples):\n",
    "    \n",
    "    # Separate data\n",
    "    neg_user, neg_item = neg_samples\n",
    "    \n",
    "    # Map\n",
    "    user_neg_map = {}\n",
    "    \n",
    "    # Loop data\n",
    "    for i in range(len(neg_user)):\n",
    "        \n",
    "        # Add to map\n",
    "        if(neg_user[i] not in user_neg_map):\n",
    "            user_neg_map[neg_user[i]] = set()\n",
    "        user_neg_map[neg_user[i]].add(neg_item[i])\n",
    "    \n",
    "    # Return map\n",
    "    return user_neg_map"
   ]
  },
  {
   "cell_type": "code",
   "execution_count": 100,
   "metadata": {},
   "outputs": [],
   "source": [
    "# Get user neg map\n",
    "user_neg_map = get_user_neg_map(neg_samples)"
   ]
  },
  {
   "cell_type": "code",
   "execution_count": 107,
   "metadata": {},
   "outputs": [],
   "source": [
    "# Get hit ratio\n",
    "def get_hit_ratio(model):\n",
    "\n",
    "    # Calculate hit ratio\n",
    "    hr = []\n",
    "\n",
    "    # Loop test data\n",
    "    for i in tqdm(range(len(user_data_test))):\n",
    "\n",
    "        # Get test data\n",
    "        user = user_data_test[i]\n",
    "        item = item_data_test[i]\n",
    "        if(labels_test[i]==0):\n",
    "            pass\n",
    "\n",
    "        # Neg samples\n",
    "        neg = list(user_neg_map[user])\n",
    "        neg.append(item)\n",
    "\n",
    "        # Predict\n",
    "        preds = model.predict([np.array([user]*len(neg)),np.array(neg)])\n",
    "\n",
    "        # Prepare ranklist\n",
    "        ranklist = []\n",
    "        for i in range(len(neg)):\n",
    "            ranklist.append((preds[i][0],neg[i]))\n",
    "        ranklist = sorted(ranklist)\n",
    "        ranklist = ranklist[-20:]\n",
    "\n",
    "        # Check if item in top 10\n",
    "        h = 0\n",
    "        for val in ranklist:\n",
    "            if(val[1]==item):\n",
    "                h = 1\n",
    "                break\n",
    "        hr.append(h)\n",
    "        \n",
    "    # Return\n",
    "    return np.mean(hr)"
   ]
  },
  {
   "cell_type": "code",
   "execution_count": 130,
   "metadata": {},
   "outputs": [
    {
     "name": "stdout",
     "output_type": "stream",
     "text": [
      "Train on 1518260 samples, validate on 79909 samples\n",
      "Epoch 1/15\n",
      "1518260/1518260 [==============================] - 21s 14us/step - loss: 0.4159 - acc: 0.8096 - val_loss: 0.3664 - val_acc: 0.8422\n",
      "Epoch 2/15\n",
      "1518260/1518260 [==============================] - 19s 12us/step - loss: 0.3632 - acc: 0.8435 - val_loss: 0.3641 - val_acc: 0.8430\n",
      "Epoch 3/15\n",
      "1518260/1518260 [==============================] - 19s 12us/step - loss: 0.3605 - acc: 0.8442 - val_loss: 0.3620 - val_acc: 0.8424\n",
      "Epoch 4/15\n",
      "1518260/1518260 [==============================] - 19s 12us/step - loss: 0.3572 - acc: 0.8451 - val_loss: 0.3600 - val_acc: 0.8432\n",
      "Epoch 5/15\n",
      "1518260/1518260 [==============================] - 19s 12us/step - loss: 0.3539 - acc: 0.8463 - val_loss: 0.3591 - val_acc: 0.8439\n",
      "Epoch 6/15\n",
      "1518260/1518260 [==============================] - 19s 12us/step - loss: 0.3506 - acc: 0.8479 - val_loss: 0.3574 - val_acc: 0.8440\n",
      "Epoch 7/15\n",
      "1518260/1518260 [==============================] - 19s 12us/step - loss: 0.3464 - acc: 0.8500 - val_loss: 0.3559 - val_acc: 0.8448\n",
      "Epoch 8/15\n",
      "1518260/1518260 [==============================] - 19s 12us/step - loss: 0.3400 - acc: 0.8536 - val_loss: 0.3515 - val_acc: 0.8477\n",
      "Epoch 9/15\n",
      "1518260/1518260 [==============================] - 19s 12us/step - loss: 0.3306 - acc: 0.8588 - val_loss: 0.3458 - val_acc: 0.8520\n",
      "Epoch 10/15\n",
      "1518260/1518260 [==============================] - 19s 12us/step - loss: 0.3182 - acc: 0.8659 - val_loss: 0.3376 - val_acc: 0.8563\n",
      "Epoch 11/15\n",
      "1518260/1518260 [==============================] - 19s 12us/step - loss: 0.3044 - acc: 0.8734 - val_loss: 0.3301 - val_acc: 0.8603\n",
      "Epoch 12/15\n",
      "1518260/1518260 [==============================] - 19s 12us/step - loss: 0.2912 - acc: 0.8801 - val_loss: 0.3250 - val_acc: 0.8635\n",
      "Epoch 13/15\n",
      "1518260/1518260 [==============================] - 19s 12us/step - loss: 0.2793 - acc: 0.8863 - val_loss: 0.3212 - val_acc: 0.8654\n",
      "Epoch 14/15\n",
      "1518260/1518260 [==============================] - 19s 12us/step - loss: 0.2687 - acc: 0.8917 - val_loss: 0.3192 - val_acc: 0.8672\n",
      "Epoch 15/15\n",
      "1518260/1518260 [==============================] - 19s 12us/step - loss: 0.2594 - acc: 0.8964 - val_loss: 0.3172 - val_acc: 0.8680\n"
     ]
    }
   ],
   "source": [
    "# Get model\n",
    "model = get_model(user_max, item_max, 8, [64,32,16,8])\n",
    "\n",
    "# Optimizer\n",
    "optimizer = Adam(lr=0.0001)\n",
    "\n",
    "# Compile model\n",
    "model.compile(optimizer=optimizer, loss=binary_crossentropy, metrics=['accuracy'])\n",
    "\n",
    "# Train model\n",
    "model.fit([user_data_train, item_data_train], labels_train, validation_data=([user_data_test, item_data_test], labels_test), batch_size = 256, epochs = 15)\n",
    "\n",
    "# Save model\n",
    "save_model(model, \"./models/mf_dim_8\")"
   ]
  },
  {
   "cell_type": "code",
   "execution_count": 131,
   "metadata": {},
   "outputs": [
    {
     "name": "stderr",
     "output_type": "stream",
     "text": [
      "100%|██████████| 79909/79909 [03:35<00:00, 370.11it/s]\n"
     ]
    },
    {
     "data": {
      "text/plain": [
       "0.6370746724399003"
      ]
     },
     "execution_count": 131,
     "metadata": {},
     "output_type": "execute_result"
    }
   ],
   "source": [
    "get_hit_ratio(model)"
   ]
  },
  {
   "cell_type": "code",
   "execution_count": 132,
   "metadata": {},
   "outputs": [
    {
     "name": "stdout",
     "output_type": "stream",
     "text": [
      "Train on 1518260 samples, validate on 79909 samples\n",
      "Epoch 1/15\n",
      "1518260/1518260 [==============================] - 22s 14us/step - loss: 0.4161 - acc: 0.8089 - val_loss: 0.3662 - val_acc: 0.8415\n",
      "Epoch 2/15\n",
      "1518260/1518260 [==============================] - 20s 13us/step - loss: 0.3635 - acc: 0.8434 - val_loss: 0.3646 - val_acc: 0.8411\n",
      "Epoch 3/15\n",
      "1518260/1518260 [==============================] - 20s 13us/step - loss: 0.3612 - acc: 0.8442 - val_loss: 0.3624 - val_acc: 0.8433\n",
      "Epoch 4/15\n",
      "1518260/1518260 [==============================] - 20s 13us/step - loss: 0.3579 - acc: 0.8452 - val_loss: 0.3599 - val_acc: 0.8438\n",
      "Epoch 5/15\n",
      "1518260/1518260 [==============================] - 20s 13us/step - loss: 0.3536 - acc: 0.8467 - val_loss: 0.3581 - val_acc: 0.8446\n",
      "Epoch 6/15\n",
      "1518260/1518260 [==============================] - 20s 13us/step - loss: 0.3490 - acc: 0.8486 - val_loss: 0.3556 - val_acc: 0.8456\n",
      "Epoch 7/15\n",
      "1518260/1518260 [==============================] - 20s 13us/step - loss: 0.3433 - acc: 0.8516 - val_loss: 0.3530 - val_acc: 0.8469\n",
      "Epoch 8/15\n",
      "1518260/1518260 [==============================] - 20s 13us/step - loss: 0.3359 - acc: 0.8553 - val_loss: 0.3477 - val_acc: 0.8496\n",
      "Epoch 9/15\n",
      "1518260/1518260 [==============================] - 20s 13us/step - loss: 0.3260 - acc: 0.8609 - val_loss: 0.3412 - val_acc: 0.8530\n",
      "Epoch 10/15\n",
      "1518260/1518260 [==============================] - 20s 13us/step - loss: 0.3136 - acc: 0.8681 - val_loss: 0.3337 - val_acc: 0.8579\n",
      "Epoch 11/15\n",
      "1518260/1518260 [==============================] - 20s 13us/step - loss: 0.2997 - acc: 0.8762 - val_loss: 0.3258 - val_acc: 0.8630\n",
      "Epoch 12/15\n",
      "1518260/1518260 [==============================] - 20s 13us/step - loss: 0.2861 - acc: 0.8835 - val_loss: 0.3196 - val_acc: 0.8666\n",
      "Epoch 13/15\n",
      "1518260/1518260 [==============================] - 20s 13us/step - loss: 0.2739 - acc: 0.8897 - val_loss: 0.3153 - val_acc: 0.8693\n",
      "Epoch 14/15\n",
      "1518260/1518260 [==============================] - 20s 13us/step - loss: 0.2630 - acc: 0.8950 - val_loss: 0.3123 - val_acc: 0.8700\n",
      "Epoch 15/15\n",
      "1518260/1518260 [==============================] - 20s 13us/step - loss: 0.2529 - acc: 0.8998 - val_loss: 0.3108 - val_acc: 0.8711\n"
     ]
    }
   ],
   "source": [
    "# Get model\n",
    "model = get_model(user_max, item_max, 16, [64,32,16,8])\n",
    "\n",
    "# Optimizer\n",
    "optimizer = Adam(lr=0.0001)\n",
    "\n",
    "# Compile model\n",
    "model.compile(optimizer=optimizer, loss=binary_crossentropy, metrics=['accuracy'])\n",
    "\n",
    "# Train model\n",
    "model.fit([user_data_train, item_data_train], labels_train, validation_data=([user_data_test, item_data_test], labels_test), batch_size = 256, epochs = 15)\n",
    "\n",
    "# Save model\n",
    "save_model(model, \"./models/mf_dim_16\")"
   ]
  },
  {
   "cell_type": "code",
   "execution_count": 133,
   "metadata": {},
   "outputs": [
    {
     "name": "stderr",
     "output_type": "stream",
     "text": [
      "100%|██████████| 79909/79909 [03:42<00:00, 358.44it/s]\n"
     ]
    },
    {
     "data": {
      "text/plain": [
       "0.6419552240673766"
      ]
     },
     "execution_count": 133,
     "metadata": {},
     "output_type": "execute_result"
    }
   ],
   "source": [
    "get_hit_ratio(model)"
   ]
  },
  {
   "cell_type": "code",
   "execution_count": 134,
   "metadata": {
    "scrolled": true
   },
   "outputs": [
    {
     "name": "stdout",
     "output_type": "stream",
     "text": [
      "Train on 1518260 samples, validate on 79909 samples\n",
      "Epoch 1/15\n",
      "1518260/1518260 [==============================] - 24s 16us/step - loss: 0.4194 - acc: 0.8093 - val_loss: 0.3662 - val_acc: 0.8422\n",
      "Epoch 2/15\n",
      "1518260/1518260 [==============================] - 22s 14us/step - loss: 0.3636 - acc: 0.8433 - val_loss: 0.3648 - val_acc: 0.8419\n",
      "Epoch 3/15\n",
      "1518260/1518260 [==============================] - 21s 14us/step - loss: 0.3614 - acc: 0.8441 - val_loss: 0.3630 - val_acc: 0.8426\n",
      "Epoch 4/15\n",
      "1518260/1518260 [==============================] - 22s 14us/step - loss: 0.3580 - acc: 0.8454 - val_loss: 0.3606 - val_acc: 0.8437\n",
      "Epoch 5/15\n",
      "1518260/1518260 [==============================] - 22s 14us/step - loss: 0.3529 - acc: 0.8473 - val_loss: 0.3580 - val_acc: 0.8443\n",
      "Epoch 6/15\n",
      "1518260/1518260 [==============================] - 21s 14us/step - loss: 0.3461 - acc: 0.8504 - val_loss: 0.3540 - val_acc: 0.8471\n",
      "Epoch 7/15\n",
      "1518260/1518260 [==============================] - 22s 14us/step - loss: 0.3366 - acc: 0.8552 - val_loss: 0.3484 - val_acc: 0.8497\n",
      "Epoch 8/15\n",
      "1518260/1518260 [==============================] - 21s 14us/step - loss: 0.3233 - acc: 0.8624 - val_loss: 0.3397 - val_acc: 0.8544\n",
      "Epoch 9/15\n",
      "1518260/1518260 [==============================] - 21s 14us/step - loss: 0.3067 - acc: 0.8723 - val_loss: 0.3294 - val_acc: 0.8612\n",
      "Epoch 10/15\n",
      "1518260/1518260 [==============================] - 22s 14us/step - loss: 0.2884 - acc: 0.8825 - val_loss: 0.3193 - val_acc: 0.8669\n",
      "Epoch 11/15\n",
      "1518260/1518260 [==============================] - 21s 14us/step - loss: 0.2712 - acc: 0.8915 - val_loss: 0.3123 - val_acc: 0.8706\n",
      "Epoch 12/15\n",
      "1518260/1518260 [==============================] - 22s 14us/step - loss: 0.2562 - acc: 0.8989 - val_loss: 0.3078 - val_acc: 0.8738\n",
      "Epoch 13/15\n",
      "1518260/1518260 [==============================] - 21s 14us/step - loss: 0.2430 - acc: 0.9050 - val_loss: 0.3051 - val_acc: 0.8752\n",
      "Epoch 14/15\n",
      "1518260/1518260 [==============================] - 21s 14us/step - loss: 0.2313 - acc: 0.9104 - val_loss: 0.3042 - val_acc: 0.8760\n",
      "Epoch 15/15\n",
      "1518260/1518260 [==============================] - 22s 14us/step - loss: 0.2206 - acc: 0.9152 - val_loss: 0.3050 - val_acc: 0.8758\n"
     ]
    }
   ],
   "source": [
    "# Get model\n",
    "model = get_model(user_max, item_max, 32, [64,32,16,8])\n",
    "\n",
    "# Optimizer\n",
    "optimizer = Adam(lr=0.0001)\n",
    "\n",
    "# Compile model\n",
    "model.compile(optimizer=optimizer, loss=binary_crossentropy, metrics=['accuracy'])\n",
    "\n",
    "# Train model\n",
    "model.fit([user_data_train, item_data_train], labels_train, validation_data=([user_data_test, item_data_test], labels_test), batch_size = 256, epochs = 15)\n",
    "\n",
    "# Save model\n",
    "save_model(model, \"./models/mf_dim_32\")"
   ]
  },
  {
   "cell_type": "code",
   "execution_count": 135,
   "metadata": {},
   "outputs": [
    {
     "name": "stderr",
     "output_type": "stream",
     "text": [
      "100%|██████████| 79909/79909 [03:48<00:00, 349.04it/s]\n"
     ]
    },
    {
     "data": {
      "text/plain": [
       "0.6658323843371835"
      ]
     },
     "execution_count": 135,
     "metadata": {},
     "output_type": "execute_result"
    }
   ],
   "source": [
    "get_hit_ratio(model)"
   ]
  },
  {
   "cell_type": "code",
   "execution_count": 136,
   "metadata": {},
   "outputs": [
    {
     "name": "stdout",
     "output_type": "stream",
     "text": [
      "Train on 1518260 samples, validate on 79909 samples\n",
      "Epoch 1/15\n",
      "1518260/1518260 [==============================] - 30s 19us/step - loss: 0.4149 - acc: 0.8088 - val_loss: 0.3655 - val_acc: 0.8416\n",
      "Epoch 2/15\n",
      "1518260/1518260 [==============================] - 27s 18us/step - loss: 0.3631 - acc: 0.8438 - val_loss: 0.3642 - val_acc: 0.8421\n",
      "Epoch 3/15\n",
      "1518260/1518260 [==============================] - 27s 18us/step - loss: 0.3609 - acc: 0.8445 - val_loss: 0.3627 - val_acc: 0.8428\n",
      "Epoch 4/15\n",
      "1518260/1518260 [==============================] - 27s 18us/step - loss: 0.3572 - acc: 0.8460 - val_loss: 0.3603 - val_acc: 0.8446\n",
      "Epoch 5/15\n",
      "1518260/1518260 [==============================] - 27s 18us/step - loss: 0.3504 - acc: 0.8487 - val_loss: 0.3570 - val_acc: 0.8454\n",
      "Epoch 6/15\n",
      "1518260/1518260 [==============================] - 27s 18us/step - loss: 0.3404 - acc: 0.8533 - val_loss: 0.3521 - val_acc: 0.8476\n",
      "Epoch 7/15\n",
      "1518260/1518260 [==============================] - 27s 18us/step - loss: 0.3267 - acc: 0.8610 - val_loss: 0.3450 - val_acc: 0.8520\n",
      "Epoch 8/15\n",
      "1518260/1518260 [==============================] - 27s 18us/step - loss: 0.3080 - acc: 0.8717 - val_loss: 0.3347 - val_acc: 0.8570\n",
      "Epoch 9/15\n",
      "1518260/1518260 [==============================] - 27s 18us/step - loss: 0.2849 - acc: 0.8853 - val_loss: 0.3225 - val_acc: 0.8645\n",
      "Epoch 10/15\n",
      "1518260/1518260 [==============================] - 27s 18us/step - loss: 0.2608 - acc: 0.8980 - val_loss: 0.3129 - val_acc: 0.8693\n",
      "Epoch 11/15\n",
      "1518260/1518260 [==============================] - 27s 18us/step - loss: 0.2389 - acc: 0.9088 - val_loss: 0.3068 - val_acc: 0.8733\n",
      "Epoch 12/15\n",
      "1518260/1518260 [==============================] - 27s 18us/step - loss: 0.2198 - acc: 0.9175 - val_loss: 0.3031 - val_acc: 0.8748\n",
      "Epoch 13/15\n",
      "1518260/1518260 [==============================] - 27s 18us/step - loss: 0.2030 - acc: 0.9250 - val_loss: 0.3028 - val_acc: 0.8760\n",
      "Epoch 14/15\n",
      "1518260/1518260 [==============================] - 27s 18us/step - loss: 0.1880 - acc: 0.9316 - val_loss: 0.3045 - val_acc: 0.8751\n",
      "Epoch 15/15\n",
      "1518260/1518260 [==============================] - 27s 18us/step - loss: 0.1743 - acc: 0.9376 - val_loss: 0.3081 - val_acc: 0.8753\n"
     ]
    }
   ],
   "source": [
    "# Get model\n",
    "model = get_model(user_max, item_max, 64, [64,32,16,8])\n",
    "\n",
    "# Optimizer\n",
    "optimizer = Adam(lr=0.0001)\n",
    "\n",
    "# Compile model\n",
    "model.compile(optimizer=optimizer, loss=binary_crossentropy, metrics=['accuracy'])\n",
    "\n",
    "# Train model\n",
    "model.fit([user_data_train, item_data_train], labels_train, validation_data=([user_data_test, item_data_test], labels_test), batch_size = 256, epochs = 15)\n",
    "\n",
    "# Save model\n",
    "save_model(model, \"./models/mf_dim_64\")"
   ]
  },
  {
   "cell_type": "code",
   "execution_count": 137,
   "metadata": {},
   "outputs": [
    {
     "name": "stderr",
     "output_type": "stream",
     "text": [
      "100%|██████████| 79909/79909 [03:56<00:00, 337.25it/s]\n"
     ]
    },
    {
     "data": {
      "text/plain": [
       "0.6984069378918519"
      ]
     },
     "execution_count": 137,
     "metadata": {},
     "output_type": "execute_result"
    }
   ],
   "source": [
    "get_hit_ratio(model)"
   ]
  },
  {
   "cell_type": "code",
   "execution_count": 138,
   "metadata": {},
   "outputs": [
    {
     "name": "stdout",
     "output_type": "stream",
     "text": [
      "Train on 1518260 samples, validate on 79909 samples\n",
      "Epoch 1/15\n",
      "1518260/1518260 [==============================] - 43s 28us/step - loss: 0.4138 - acc: 0.8094 - val_loss: 0.3655 - val_acc: 0.8423\n",
      "Epoch 2/15\n",
      "1518260/1518260 [==============================] - 40s 27us/step - loss: 0.3633 - acc: 0.8433 - val_loss: 0.3648 - val_acc: 0.8422\n",
      "Epoch 3/15\n",
      "1518260/1518260 [==============================] - 40s 27us/step - loss: 0.3607 - acc: 0.8443 - val_loss: 0.3636 - val_acc: 0.8424\n",
      "Epoch 4/15\n",
      "1518260/1518260 [==============================] - 40s 27us/step - loss: 0.3560 - acc: 0.8464 - val_loss: 0.3614 - val_acc: 0.8437\n",
      "Epoch 5/15\n",
      "1518260/1518260 [==============================] - 40s 27us/step - loss: 0.3466 - acc: 0.8508 - val_loss: 0.3562 - val_acc: 0.8457\n",
      "Epoch 6/15\n",
      "1518260/1518260 [==============================] - 40s 27us/step - loss: 0.3308 - acc: 0.8589 - val_loss: 0.3482 - val_acc: 0.8504\n",
      "Epoch 7/15\n",
      "1518260/1518260 [==============================] - 40s 27us/step - loss: 0.3074 - acc: 0.8721 - val_loss: 0.3362 - val_acc: 0.8571\n",
      "Epoch 8/15\n",
      "1518260/1518260 [==============================] - 40s 27us/step - loss: 0.2776 - acc: 0.8892 - val_loss: 0.3220 - val_acc: 0.8649\n",
      "Epoch 9/15\n",
      "1518260/1518260 [==============================] - 40s 27us/step - loss: 0.2466 - acc: 0.9065 - val_loss: 0.3105 - val_acc: 0.8715\n",
      "Epoch 10/15\n",
      "1518260/1518260 [==============================] - 41s 27us/step - loss: 0.2183 - acc: 0.9205 - val_loss: 0.3037 - val_acc: 0.8755\n",
      "Epoch 11/15\n",
      "1518260/1518260 [==============================] - 40s 27us/step - loss: 0.1933 - acc: 0.9318 - val_loss: 0.3006 - val_acc: 0.8774\n",
      "Epoch 12/15\n",
      "1518260/1518260 [==============================] - 40s 27us/step - loss: 0.1713 - acc: 0.9413 - val_loss: 0.3000 - val_acc: 0.8779\n",
      "Epoch 13/15\n",
      "1518260/1518260 [==============================] - 40s 27us/step - loss: 0.1515 - acc: 0.9499 - val_loss: 0.3029 - val_acc: 0.8785\n",
      "Epoch 14/15\n",
      "1518260/1518260 [==============================] - 40s 27us/step - loss: 0.1336 - acc: 0.9577 - val_loss: 0.3081 - val_acc: 0.8776\n",
      "Epoch 15/15\n",
      "1518260/1518260 [==============================] - 40s 27us/step - loss: 0.1172 - acc: 0.9646 - val_loss: 0.3150 - val_acc: 0.8768\n"
     ]
    }
   ],
   "source": [
    "# Get model\n",
    "model = get_model(user_max, item_max, 128, [64,32,16,8])\n",
    "\n",
    "# Optimizer\n",
    "optimizer = Adam(lr=0.0001)\n",
    "\n",
    "# Compile model\n",
    "model.compile(optimizer=optimizer, loss=binary_crossentropy, metrics=['accuracy'])\n",
    "\n",
    "# Train model\n",
    "model.fit([user_data_train, item_data_train], labels_train, validation_data=([user_data_test, item_data_test], labels_test), batch_size = 256, epochs = 15)\n",
    "\n",
    "# Save model\n",
    "save_model(model, \"./models/mf_dim_128\")"
   ]
  },
  {
   "cell_type": "code",
   "execution_count": 139,
   "metadata": {},
   "outputs": [
    {
     "name": "stderr",
     "output_type": "stream",
     "text": [
      "100%|██████████| 79909/79909 [04:02<00:00, 329.61it/s]\n"
     ]
    },
    {
     "data": {
      "text/plain": [
       "0.7346606765195409"
      ]
     },
     "execution_count": 139,
     "metadata": {},
     "output_type": "execute_result"
    }
   ],
   "source": [
    "get_hit_ratio(model)"
   ]
  },
  {
   "cell_type": "code",
   "execution_count": 149,
   "metadata": {},
   "outputs": [
    {
     "data": {
      "image/png": "[encoded data removed]",
      "text/plain": [
       "<Figure size 432x288 with 1 Axes>"
      ]
     },
     "metadata": {
      "needs_background": "light"
     },
     "output_type": "display_data"
    }
   ],
   "source": [
    "plt.plot([8,16,32,64,128],[0.637,0.642,0.666,0.698,0.734])\n",
    "plt.scatter([8,16,32,64,128],[0.637,0.642,0.666,0.698,0.734])\n",
    "plt.xlabel(\"Dimension of latent factors\")\n",
    "plt.ylabel(\"Hit ratio\")\n",
    "plt.show()"
   ]
  }
 ],
 "metadata": {
  "kernelspec": {
   "display_name": "Python 3",
   "language": "python",
   "name": "python3"
  },
  "language_info": {
   "codemirror_mode": {
    "name": "ipython",
    "version": 3
   },
   "file_extension": ".py",
   "mimetype": "text/x-python",
   "name": "python",
   "nbconvert_exporter": "python",
   "pygments_lexer": "ipython3",
   "version": "3.5.2"
  }
 },
 "nbformat": 4,
 "nbformat_minor": 2
}
